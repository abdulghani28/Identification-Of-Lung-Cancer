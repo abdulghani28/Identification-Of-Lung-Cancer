{
  "cells": [
    {
      "cell_type": "markdown",
      "metadata": {
        "id": "ychYsPuBQOyY"
      },
      "source": [
        "# Optimasi *Support Vector Machine* Menggunakan Algoritma Genetika dan *Grid Search* untuk Klasifikasi Kanker Paru-paru pada Citra Magnetic Resonance Imaging\n",
        "\n",
        "Muhammad Abdul Ghani\n",
        "\n",
        "123180020"
      ]
    },
    {
      "cell_type": "markdown",
      "metadata": {
        "id": "z-drfZfkQ7_Y"
      },
      "source": [
        "## Koneksi Google Drive"
      ]
    },
    {
      "cell_type": "code",
      "execution_count": 17,
      "metadata": {
        "colab": {
          "base_uri": "https://localhost:8080/"
        },
        "id": "Vxmr2FOIkFqf",
        "outputId": "8314fc06-91a0-4979-bc8a-aa02e98a5000"
      },
      "outputs": [
        {
          "name": "stdout",
          "output_type": "stream",
          "text": [
            "Drive already mounted at /content/drive/; to attempt to forcibly remount, call drive.mount(\"/content/drive/\", force_remount=True).\n"
          ]
        }
      ],
      "source": [
        "# from google.colab import drive\n",
        "# import os\n",
        "\n",
        "# drive.mount('/content/drive/')"
      ]
    },
    {
      "cell_type": "markdown",
      "metadata": {
        "id": "MfTqb1MzRHMa"
      },
      "source": [
        "## Import Dataset"
      ]
    },
    {
      "cell_type": "code",
      "execution_count": 7,
      "metadata": {
        "id": "QvQNrW2Gk8Mr"
      },
      "outputs": [
        {
          "ename": "StopIteration",
          "evalue": "",
          "output_type": "error",
          "traceback": [
            "\u001b[0;31m---------------------------------------------------------------------------\u001b[0m",
            "\u001b[0;31mStopIteration\u001b[0m                             Traceback (most recent call last)",
            "Cell \u001b[0;32mIn [7], line 4\u001b[0m\n\u001b[1;32m      1\u001b[0m \u001b[39mimport\u001b[39;00m \u001b[39mos\u001b[39;00m\n\u001b[1;32m      2\u001b[0m \u001b[39mimport\u001b[39;00m \u001b[39mcv2\u001b[39;00m\n\u001b[0;32m----> 4\u001b[0m path1, dirs1, cancer \u001b[39m=\u001b[39m \u001b[39mnext\u001b[39;49m(os\u001b[39m.\u001b[39;49mwalk(\u001b[39m\"\u001b[39;49m\u001b[39miCloud://iCloud Drive//Tugas Akhir//app//Lung Cancer//cancer\u001b[39;49m\u001b[39m\"\u001b[39;49m))\n\u001b[1;32m      5\u001b[0m path2, dirs2, normal \u001b[39m=\u001b[39m \u001b[39mnext\u001b[39m(os\u001b[39m.\u001b[39mwalk(\u001b[39m\"\u001b[39m\u001b[39miCloud Drive/Tugas Akhir/app/Lung Cancer/normal/\u001b[39m\u001b[39m\"\u001b[39m))\n\u001b[1;32m      7\u001b[0m images \u001b[39m=\u001b[39m []\n",
            "\u001b[0;31mStopIteration\u001b[0m: "
          ]
        }
      ],
      "source": [
        "import os\n",
        "import cv2\n",
        "\n",
        "path1, dirs1, cancer = next(os.walk(\"iCloud://iCloud Drive//Tugas Akhir//app//Lung Cancer//cancer\"))\n",
        "path2, dirs2, normal = next(os.walk(\"iCloud Drive/Tugas Akhir/app/Lung Cancer/normal/\"))\n",
        "\n",
        "images = []\n",
        "labels = []\n",
        "names = []\n",
        "\n",
        "for n in range(len(normal)):\n",
        "    img = cv2.imread(\"/iCloud Drive/Tugas Akhir/app/Lung Cancer/normal/\"+normal[n], cv2.IMREAD_GRAYSCALE)\n",
        "    images.append(img)\n",
        "    labels.append(0)\n",
        "    names.append(normal[n])\n",
        "    \n",
        "for n in range(len(cancer)):\n",
        "    img = cv2.imread(\"/iCloud Drive/Tugas Akhir/app/Lung Cancer/cancer/\"+cancer[n], cv2.IMREAD_GRAYSCALE)\n",
        "    images.append(img)\n",
        "    labels.append(1)\n",
        "    names.append(cancer[n])"
      ]
    },
    {
      "cell_type": "markdown",
      "metadata": {
        "id": "jGldqOdNROo0"
      },
      "source": [
        "## Ekstraksi Fitur dengan GLCM"
      ]
    },
    {
      "cell_type": "code",
      "execution_count": 19,
      "metadata": {
        "id": "8PbqERPYk9xS"
      },
      "outputs": [],
      "source": [
        "from sklearn.metrics import accuracy_score, precision_score, recall_score, f1_score, classification_report\n",
        "from skimage.feature import greycomatrix, greycoprops\n",
        "import numpy as np\n",
        "\n",
        "# Begin Function for Extraction Feature with GLCM \n",
        "def calc_glcm(img, img_name, label, props, dists=[5], agls=[0], lvl=256, sym=True, norm=True):\n",
        "    \n",
        "    glcm = greycomatrix(img,\n",
        "                        distances=dists,\n",
        "                        angles=agls,\n",
        "                        levels=lvl,\n",
        "                        symmetric=sym,\n",
        "                        normed=norm)\n",
        "    \n",
        "    feature = []\n",
        "    glcm_props = [propery for name in props for propery in greycoprops(glcm, name)[0]]\n",
        "    feature.append(img_name)\n",
        "    feature.append(label)\n",
        "    for item in glcm_props:\n",
        "        feature.append(item)\n",
        "    \n",
        "    return feature\n",
        "# End Funtion for Extraction Feature with GLCM \n",
        "\n",
        "properties = ['contrast', 'energy', 'correlation', 'dissimilarity', 'homogeneity', 'ASM']\n",
        "glcm_all = []\n",
        "for img, name, label in zip(images, names, labels):\n",
        "    glcm_all.append(\n",
        "        calc_glcm(img, name, label, props=properties)\n",
        "    )\n",
        "    \n",
        "columns = []\n",
        "columns.append(\"name\")\n",
        "columns.append(\"label\")\n",
        "for name in properties :\n",
        "    columns.append(name)"
      ]
    },
    {
      "cell_type": "markdown",
      "metadata": {
        "id": "lcNffqxHRRzF"
      },
      "source": [
        "## Mengubah Hasil GLCM Menjadi Dataframe"
      ]
    },
    {
      "cell_type": "code",
      "execution_count": 20,
      "metadata": {
        "colab": {
          "base_uri": "https://localhost:8080/",
          "height": 363
        },
        "id": "4PmKZJkvlAaT",
        "outputId": "02d0dc4b-737c-4d2c-e411-ef87bd85489a"
      },
      "outputs": [
        {
          "data": {
            "text/html": [
              "\n",
              "  <div id=\"df-e91e15ea-d71a-415b-99ce-53511fcc9397\">\n",
              "    <div class=\"colab-df-container\">\n",
              "      <div>\n",
              "<style scoped>\n",
              "    .dataframe tbody tr th:only-of-type {\n",
              "        vertical-align: middle;\n",
              "    }\n",
              "\n",
              "    .dataframe tbody tr th {\n",
              "        vertical-align: top;\n",
              "    }\n",
              "\n",
              "    .dataframe thead th {\n",
              "        text-align: right;\n",
              "    }\n",
              "</style>\n",
              "<table border=\"1\" class=\"dataframe\">\n",
              "  <thead>\n",
              "    <tr style=\"text-align: right;\">\n",
              "      <th></th>\n",
              "      <th>name</th>\n",
              "      <th>label</th>\n",
              "      <th>contrast</th>\n",
              "      <th>energy</th>\n",
              "      <th>correlation</th>\n",
              "      <th>dissimilarity</th>\n",
              "      <th>homogeneity</th>\n",
              "      <th>ASM</th>\n",
              "    </tr>\n",
              "  </thead>\n",
              "  <tbody>\n",
              "    <tr>\n",
              "      <th>0</th>\n",
              "      <td>Malignant case (527).jpg</td>\n",
              "      <td>1</td>\n",
              "      <td>376.117742</td>\n",
              "      <td>0.226697</td>\n",
              "      <td>0.964916</td>\n",
              "      <td>6.238227</td>\n",
              "      <td>0.532662</td>\n",
              "      <td>0.051392</td>\n",
              "    </tr>\n",
              "    <tr>\n",
              "      <th>1</th>\n",
              "      <td>Normal case (258).jpg</td>\n",
              "      <td>0</td>\n",
              "      <td>847.935354</td>\n",
              "      <td>0.078727</td>\n",
              "      <td>0.934024</td>\n",
              "      <td>12.929391</td>\n",
              "      <td>0.213398</td>\n",
              "      <td>0.006198</td>\n",
              "    </tr>\n",
              "    <tr>\n",
              "      <th>2</th>\n",
              "      <td>Malignant case (470).jpg</td>\n",
              "      <td>1</td>\n",
              "      <td>599.469971</td>\n",
              "      <td>0.070711</td>\n",
              "      <td>0.952713</td>\n",
              "      <td>9.643256</td>\n",
              "      <td>0.303789</td>\n",
              "      <td>0.005000</td>\n",
              "    </tr>\n",
              "    <tr>\n",
              "      <th>3</th>\n",
              "      <td>Malignant case (129).jpg</td>\n",
              "      <td>1</td>\n",
              "      <td>701.917792</td>\n",
              "      <td>0.063052</td>\n",
              "      <td>0.941114</td>\n",
              "      <td>10.616402</td>\n",
              "      <td>0.269367</td>\n",
              "      <td>0.003976</td>\n",
              "    </tr>\n",
              "    <tr>\n",
              "      <th>4</th>\n",
              "      <td>Malignant case (521).jpg</td>\n",
              "      <td>1</td>\n",
              "      <td>727.610654</td>\n",
              "      <td>0.062906</td>\n",
              "      <td>0.943742</td>\n",
              "      <td>10.575236</td>\n",
              "      <td>0.287932</td>\n",
              "      <td>0.003957</td>\n",
              "    </tr>\n",
              "    <tr>\n",
              "      <th>5</th>\n",
              "      <td>Malignant case (454).jpg</td>\n",
              "      <td>1</td>\n",
              "      <td>557.043967</td>\n",
              "      <td>0.066439</td>\n",
              "      <td>0.956456</td>\n",
              "      <td>9.827358</td>\n",
              "      <td>0.306283</td>\n",
              "      <td>0.004414</td>\n",
              "    </tr>\n",
              "    <tr>\n",
              "      <th>6</th>\n",
              "      <td>Normal case (407).jpg</td>\n",
              "      <td>0</td>\n",
              "      <td>750.133094</td>\n",
              "      <td>0.070145</td>\n",
              "      <td>0.941310</td>\n",
              "      <td>12.147124</td>\n",
              "      <td>0.204110</td>\n",
              "      <td>0.004920</td>\n",
              "    </tr>\n",
              "    <tr>\n",
              "      <th>7</th>\n",
              "      <td>Normal case (284).jpg</td>\n",
              "      <td>0</td>\n",
              "      <td>784.658288</td>\n",
              "      <td>0.199275</td>\n",
              "      <td>0.935638</td>\n",
              "      <td>12.048127</td>\n",
              "      <td>0.305372</td>\n",
              "      <td>0.039711</td>\n",
              "    </tr>\n",
              "    <tr>\n",
              "      <th>8</th>\n",
              "      <td>Malignant case (344).jpg</td>\n",
              "      <td>1</td>\n",
              "      <td>577.561444</td>\n",
              "      <td>0.093194</td>\n",
              "      <td>0.954525</td>\n",
              "      <td>9.087748</td>\n",
              "      <td>0.359592</td>\n",
              "      <td>0.008685</td>\n",
              "    </tr>\n",
              "    <tr>\n",
              "      <th>9</th>\n",
              "      <td>Malignant case (155).jpg</td>\n",
              "      <td>1</td>\n",
              "      <td>944.081935</td>\n",
              "      <td>0.067201</td>\n",
              "      <td>0.916670</td>\n",
              "      <td>12.442643</td>\n",
              "      <td>0.297335</td>\n",
              "      <td>0.004516</td>\n",
              "    </tr>\n",
              "  </tbody>\n",
              "</table>\n",
              "</div>\n",
              "      <button class=\"colab-df-convert\" onclick=\"convertToInteractive('df-e91e15ea-d71a-415b-99ce-53511fcc9397')\"\n",
              "              title=\"Convert this dataframe to an interactive table.\"\n",
              "              style=\"display:none;\">\n",
              "        \n",
              "  <svg xmlns=\"http://www.w3.org/2000/svg\" height=\"24px\"viewBox=\"0 0 24 24\"\n",
              "       width=\"24px\">\n",
              "    <path d=\"M0 0h24v24H0V0z\" fill=\"none\"/>\n",
              "    <path d=\"M18.56 5.44l.94 2.06.94-2.06 2.06-.94-2.06-.94-.94-2.06-.94 2.06-2.06.94zm-11 1L8.5 8.5l.94-2.06 2.06-.94-2.06-.94L8.5 2.5l-.94 2.06-2.06.94zm10 10l.94 2.06.94-2.06 2.06-.94-2.06-.94-.94-2.06-.94 2.06-2.06.94z\"/><path d=\"M17.41 7.96l-1.37-1.37c-.4-.4-.92-.59-1.43-.59-.52 0-1.04.2-1.43.59L10.3 9.45l-7.72 7.72c-.78.78-.78 2.05 0 2.83L4 21.41c.39.39.9.59 1.41.59.51 0 1.02-.2 1.41-.59l7.78-7.78 2.81-2.81c.8-.78.8-2.07 0-2.86zM5.41 20L4 18.59l7.72-7.72 1.47 1.35L5.41 20z\"/>\n",
              "  </svg>\n",
              "      </button>\n",
              "      \n",
              "  <style>\n",
              "    .colab-df-container {\n",
              "      display:flex;\n",
              "      flex-wrap:wrap;\n",
              "      gap: 12px;\n",
              "    }\n",
              "\n",
              "    .colab-df-convert {\n",
              "      background-color: #E8F0FE;\n",
              "      border: none;\n",
              "      border-radius: 50%;\n",
              "      cursor: pointer;\n",
              "      display: none;\n",
              "      fill: #1967D2;\n",
              "      height: 32px;\n",
              "      padding: 0 0 0 0;\n",
              "      width: 32px;\n",
              "    }\n",
              "\n",
              "    .colab-df-convert:hover {\n",
              "      background-color: #E2EBFA;\n",
              "      box-shadow: 0px 1px 2px rgba(60, 64, 67, 0.3), 0px 1px 3px 1px rgba(60, 64, 67, 0.15);\n",
              "      fill: #174EA6;\n",
              "    }\n",
              "\n",
              "    [theme=dark] .colab-df-convert {\n",
              "      background-color: #3B4455;\n",
              "      fill: #D2E3FC;\n",
              "    }\n",
              "\n",
              "    [theme=dark] .colab-df-convert:hover {\n",
              "      background-color: #434B5C;\n",
              "      box-shadow: 0px 1px 3px 1px rgba(0, 0, 0, 0.15);\n",
              "      filter: drop-shadow(0px 1px 2px rgba(0, 0, 0, 0.3));\n",
              "      fill: #FFFFFF;\n",
              "    }\n",
              "  </style>\n",
              "\n",
              "      <script>\n",
              "        const buttonEl =\n",
              "          document.querySelector('#df-e91e15ea-d71a-415b-99ce-53511fcc9397 button.colab-df-convert');\n",
              "        buttonEl.style.display =\n",
              "          google.colab.kernel.accessAllowed ? 'block' : 'none';\n",
              "\n",
              "        async function convertToInteractive(key) {\n",
              "          const element = document.querySelector('#df-e91e15ea-d71a-415b-99ce-53511fcc9397');\n",
              "          const dataTable =\n",
              "            await google.colab.kernel.invokeFunction('convertToInteractive',\n",
              "                                                     [key], {});\n",
              "          if (!dataTable) return;\n",
              "\n",
              "          const docLinkHtml = 'Like what you see? Visit the ' +\n",
              "            '<a target=\"_blank\" href=https://colab.research.google.com/notebooks/data_table.ipynb>data table notebook</a>'\n",
              "            + ' to learn more about interactive tables.';\n",
              "          element.innerHTML = '';\n",
              "          dataTable['output_type'] = 'display_data';\n",
              "          await google.colab.output.renderOutput(dataTable, element);\n",
              "          const docLink = document.createElement('div');\n",
              "          docLink.innerHTML = docLinkHtml;\n",
              "          element.appendChild(docLink);\n",
              "        }\n",
              "      </script>\n",
              "    </div>\n",
              "  </div>\n",
              "  "
            ],
            "text/plain": [
              "                       name  label    contrast    energy  correlation  \\\n",
              "0  Malignant case (527).jpg      1  376.117742  0.226697     0.964916   \n",
              "1     Normal case (258).jpg      0  847.935354  0.078727     0.934024   \n",
              "2  Malignant case (470).jpg      1  599.469971  0.070711     0.952713   \n",
              "3  Malignant case (129).jpg      1  701.917792  0.063052     0.941114   \n",
              "4  Malignant case (521).jpg      1  727.610654  0.062906     0.943742   \n",
              "5  Malignant case (454).jpg      1  557.043967  0.066439     0.956456   \n",
              "6     Normal case (407).jpg      0  750.133094  0.070145     0.941310   \n",
              "7     Normal case (284).jpg      0  784.658288  0.199275     0.935638   \n",
              "8  Malignant case (344).jpg      1  577.561444  0.093194     0.954525   \n",
              "9  Malignant case (155).jpg      1  944.081935  0.067201     0.916670   \n",
              "\n",
              "   dissimilarity  homogeneity       ASM  \n",
              "0       6.238227     0.532662  0.051392  \n",
              "1      12.929391     0.213398  0.006198  \n",
              "2       9.643256     0.303789  0.005000  \n",
              "3      10.616402     0.269367  0.003976  \n",
              "4      10.575236     0.287932  0.003957  \n",
              "5       9.827358     0.306283  0.004414  \n",
              "6      12.147124     0.204110  0.004920  \n",
              "7      12.048127     0.305372  0.039711  \n",
              "8       9.087748     0.359592  0.008685  \n",
              "9      12.442643     0.297335  0.004516  "
            ]
          },
          "execution_count": 20,
          "metadata": {},
          "output_type": "execute_result"
        }
      ],
      "source": [
        "import pandas as pd\n",
        "\n",
        "# Save DataFrame to CSV \n",
        "df = pd.DataFrame(glcm_all, columns=columns)\n",
        "df = df.sample(frac = 1).reset_index(drop=True)\n",
        "df.to_csv(\"/content/drive/My Drive/TA/raw_features.csv\")\n",
        "df.head(10)"
      ]
    },
    {
      "cell_type": "markdown",
      "metadata": {
        "id": "efGNgbO9RcSE"
      },
      "source": [
        "## Split Dataset Menjadi Data Training dan Data Testing"
      ]
    },
    {
      "cell_type": "code",
      "execution_count": 21,
      "metadata": {
        "id": "VFhws6VBg49U"
      },
      "outputs": [],
      "source": [
        "from sklearn.model_selection import train_test_split\n",
        "from sklearn.metrics import accuracy_score, classification_report, mean_absolute_error\n",
        "from sklearn.svm import SVC\n",
        "import pandas as pd\n",
        "\n",
        "# Read CSV \n",
        "glcm_df = pd.read_csv(\"/content/drive/My Drive/TA/raw_features.csv\", index_col=0) \n",
        "\n",
        "# Create x and y variable\n",
        "x = glcm_df[glcm_df.columns.drop(['name', 'label'])]\n",
        "y = glcm_df['label']\n",
        "\n",
        "# Split Dataset (70% training, 30% testing)\n",
        "x_train, x_test, y_train, y_test = train_test_split(x, y, test_size = 0.3, random_state=101)\n"
      ]
    },
    {
      "cell_type": "markdown",
      "metadata": {
        "id": "8KnXz4EfRrs_"
      },
      "source": [
        "## Hasil SVM Tanpa Optimasi"
      ]
    },
    {
      "cell_type": "code",
      "execution_count": 22,
      "metadata": {
        "colab": {
          "base_uri": "https://localhost:8080/"
        },
        "id": "Dt49pzlQnoOw",
        "outputId": "cd4f1cec-8216-4846-8f07-8b2131a71d15"
      },
      "outputs": [
        {
          "name": "stdout",
          "output_type": "stream",
          "text": [
            "SVM Accuracy :  0.8333333333333334\n",
            "SVM Precision =  0.8529411764705882\n",
            "SVM Recall    =  0.8579881656804734\n",
            "SVM F1 Score  =  0.8554572271386431\n",
            "Error :  0.16666666666666666\n",
            "              precision    recall  f1-score   support\n",
            "\n",
            "           0       0.81      0.80      0.80       125\n",
            "           1       0.85      0.86      0.86       169\n",
            "\n",
            "    accuracy                           0.83       294\n",
            "   macro avg       0.83      0.83      0.83       294\n",
            "weighted avg       0.83      0.83      0.83       294\n",
            "\n"
          ]
        }
      ],
      "source": [
        "svc_model = SVC(kernel='linear', C=1.0)\n",
        "svc_model.fit(x_train, y_train)\n",
        "svc_predictions = svc_model.predict(x_test)\n",
        "\n",
        "print(\"SVM Accuracy : \", accuracy_score(y_test, svc_predictions))\n",
        "print(\"SVM Precision = \", precision_score(y_test, svc_predictions))\n",
        "print(\"SVM Recall    = \", recall_score(y_test, svc_predictions))\n",
        "print(\"SVM F1 Score  = \", f1_score(y_test, svc_predictions))\n",
        "print(\"Error : \", mean_absolute_error(y_test, svc_predictions))\n",
        "\n",
        "print(classification_report(y_test, svc_predictions))"
      ]
    },
    {
      "cell_type": "markdown",
      "metadata": {
        "id": "Cg__41zkRtVi"
      },
      "source": [
        "## Confussion Matriks SVM Tanpa Optimasi"
      ]
    },
    {
      "cell_type": "code",
      "execution_count": 23,
      "metadata": {
        "colab": {
          "base_uri": "https://localhost:8080/",
          "height": 337
        },
        "id": "A6dA5nmJod8y",
        "outputId": "3841a47d-1175-4c92-9120-b44f5a8b3112"
      },
      "outputs": [
        {
          "data": {
            "image/png": "[encoded data removed]",
            "text/plain": [
              "<Figure size 432x288 with 2 Axes>"
            ]
          },
          "metadata": {
            "needs_background": "light"
          },
          "output_type": "display_data"
        }
      ],
      "source": [
        "from sklearn.metrics import confusion_matrix\n",
        "import seaborn as sn\n",
        "import matplotlib.pyplot as plt\n",
        "\n",
        "matrix = confusion_matrix(y_test, svc_predictions)\n",
        "plot = sn.heatmap(matrix, annot=True)\n",
        "\n",
        "plot.set_title('SVM Confusion Matrix \\n\\n');\n",
        "plot.set_xlabel('\\nPredicted Values')\n",
        "plot.set_ylabel('Actual Values ');\n",
        "plot.xaxis.set_ticklabels(['Normal','Cancer'])\n",
        "plot.yaxis.set_ticklabels(['Normal','Cancer'])\n",
        "plt.show()"
      ]
    },
    {
      "cell_type": "markdown",
      "metadata": {
        "id": "jWqfAl1hR58-"
      },
      "source": [
        "## Mencari Parameter Terbaik dengan Algoritma Grid Search"
      ]
    },
    {
      "cell_type": "code",
      "execution_count": 24,
      "metadata": {
        "id": "SNMw9lqhEd6b"
      },
      "outputs": [],
      "source": [
        "from sklearn.model_selection import GridSearchCV\n",
        "\n",
        "hyperparameters = {'C': [0.01, 0.1, 1, 10, 100, 1000], 'kernel': ['linear']}\n",
        "grid_svm = GridSearchCV(SVC(), hyperparameters, cv=5, verbose=5)\n",
        "\n",
        "#  'gamma': [10,1,0.1,0.01]\n",
        "#  'degree': [1, 2, 5, 10],"
      ]
    },
    {
      "cell_type": "code",
      "execution_count": 25,
      "metadata": {
        "colab": {
          "base_uri": "https://localhost:8080/"
        },
        "id": "Cgkhh6tAEgTt",
        "outputId": "5b3509e9-731c-44de-ee45-8378568be2c8"
      },
      "outputs": [
        {
          "name": "stdout",
          "output_type": "stream",
          "text": [
            "Fitting 5 folds for each of 6 candidates, totalling 30 fits\n",
            "[CV 1/5] END .............C=0.01, kernel=linear;, score=0.715 total time=   0.1s\n",
            "[CV 2/5] END .............C=0.01, kernel=linear;, score=0.745 total time=   0.1s\n",
            "[CV 3/5] END .............C=0.01, kernel=linear;, score=0.810 total time=   0.1s\n",
            "[CV 4/5] END .............C=0.01, kernel=linear;, score=0.750 total time=   0.1s\n",
            "[CV 5/5] END .............C=0.01, kernel=linear;, score=0.765 total time=   0.1s\n",
            "[CV 1/5] END ..............C=0.1, kernel=linear;, score=0.737 total time=   0.2s\n",
            "[CV 2/5] END ..............C=0.1, kernel=linear;, score=0.730 total time=   0.4s\n",
            "[CV 3/5] END ..............C=0.1, kernel=linear;, score=0.759 total time=   0.4s\n",
            "[CV 4/5] END ..............C=0.1, kernel=linear;, score=0.757 total time=   0.2s\n",
            "[CV 5/5] END ..............C=0.1, kernel=linear;, score=0.779 total time=   0.3s\n",
            "[CV 1/5] END ................C=1, kernel=linear;, score=0.723 total time=   2.5s\n",
            "[CV 2/5] END ................C=1, kernel=linear;, score=0.796 total time=   2.2s\n",
            "[CV 3/5] END ................C=1, kernel=linear;, score=0.781 total time=   3.2s\n",
            "[CV 4/5] END ................C=1, kernel=linear;, score=0.787 total time=   2.5s\n",
            "[CV 5/5] END ................C=1, kernel=linear;, score=0.787 total time=   7.1s\n",
            "[CV 1/5] END ...............C=10, kernel=linear;, score=0.745 total time=   9.0s\n",
            "[CV 2/5] END ...............C=10, kernel=linear;, score=0.839 total time=   7.8s\n",
            "[CV 3/5] END ...............C=10, kernel=linear;, score=0.803 total time=   5.0s\n",
            "[CV 4/5] END ...............C=10, kernel=linear;, score=0.853 total time=  12.5s\n",
            "[CV 5/5] END ...............C=10, kernel=linear;, score=0.824 total time=   7.9s\n",
            "[CV 1/5] END ..............C=100, kernel=linear;, score=0.745 total time=   4.9s\n",
            "[CV 2/5] END ..............C=100, kernel=linear;, score=0.803 total time=   8.5s\n",
            "[CV 3/5] END ..............C=100, kernel=linear;, score=0.847 total time=  11.7s\n",
            "[CV 4/5] END ..............C=100, kernel=linear;, score=0.846 total time=   7.2s\n",
            "[CV 5/5] END ..............C=100, kernel=linear;, score=0.853 total time=  21.8s\n",
            "[CV 1/5] END .............C=1000, kernel=linear;, score=0.774 total time=   5.5s\n",
            "[CV 2/5] END .............C=1000, kernel=linear;, score=0.847 total time=  10.2s\n",
            "[CV 3/5] END .............C=1000, kernel=linear;, score=0.832 total time=  10.4s\n",
            "[CV 4/5] END .............C=1000, kernel=linear;, score=0.853 total time=   8.5s\n",
            "[CV 5/5] END .............C=1000, kernel=linear;, score=0.868 total time=   8.6s\n"
          ]
        },
        {
          "data": {
            "text/plain": [
              "GridSearchCV(cv=5, estimator=SVC(),\n",
              "             param_grid={'C': [0.01, 0.1, 1, 10, 100, 1000],\n",
              "                         'kernel': ['linear']},\n",
              "             verbose=5)"
            ]
          },
          "execution_count": 25,
          "metadata": {},
          "output_type": "execute_result"
        }
      ],
      "source": [
        "grid_svm.fit(x_train, y_train)"
      ]
    },
    {
      "cell_type": "code",
      "execution_count": 26,
      "metadata": {
        "colab": {
          "base_uri": "https://localhost:8080/"
        },
        "id": "SwAPybyHEilq",
        "outputId": "f25a0a11-0092-4492-b981-bdfb4eaad895"
      },
      "outputs": [
        {
          "name": "stdout",
          "output_type": "stream",
          "text": [
            "Used Kernel :  linear\n",
            "Best C      :  1000\n",
            "Best Score  :  0.8346285959639331\n"
          ]
        }
      ],
      "source": [
        "print('Used Kernel : ', grid_svm.best_estimator_.kernel)\n",
        "print('Best C      : ', grid_svm.best_estimator_.C)\n",
        "print('Best Score  : ', grid_svm.best_score_)\n",
        "\n",
        "cvalue = grid_svm.best_estimator_.C\n",
        "# print('Best Gamma  : ', grid_svm.best_estimator_.gamma)\n",
        "# print('Best Degree : ', grid_svm.best_estimator_.degree)"
      ]
    },
    {
      "cell_type": "markdown",
      "metadata": {
        "id": "NX5cS7qZxJrE"
      },
      "source": [
        "## Hasil GridSearch-SVM"
      ]
    },
    {
      "cell_type": "code",
      "execution_count": 27,
      "metadata": {
        "colab": {
          "base_uri": "https://localhost:8080/"
        },
        "id": "nqDNPVRgE1iV",
        "outputId": "4cd95d15-8128-4898-e44c-9920e59fb15a"
      },
      "outputs": [
        {
          "data": {
            "text/plain": [
              "SVC(C=1000, kernel='linear')"
            ]
          },
          "execution_count": 27,
          "metadata": {},
          "output_type": "execute_result"
        }
      ],
      "source": [
        "from sklearn.pipeline import make_pipeline\n",
        "svm_optimal = SVC(C=cvalue,kernel='linear')\n",
        "svm_optimal.fit(x_train, y_train)\n",
        "# ,gamma=0.01"
      ]
    },
    {
      "cell_type": "code",
      "execution_count": 28,
      "metadata": {
        "colab": {
          "base_uri": "https://localhost:8080/"
        },
        "id": "sylXD-YlE4iM",
        "outputId": "acfc6f3b-b5d4-4340-8263-8be990b1ad61"
      },
      "outputs": [
        {
          "name": "stdout",
          "output_type": "stream",
          "text": [
            "              precision    recall  f1-score   support\n",
            "\n",
            "           0       0.82      0.86      0.84       125\n",
            "           1       0.90      0.86      0.88       169\n",
            "\n",
            "    accuracy                           0.86       294\n",
            "   macro avg       0.86      0.86      0.86       294\n",
            "weighted avg       0.86      0.86      0.86       294\n",
            "\n"
          ]
        }
      ],
      "source": [
        "grid_svm_predict = svm_optimal.predict(x_test)\n",
        "print (classification_report(y_test, grid_svm_predict))"
      ]
    },
    {
      "cell_type": "code",
      "execution_count": 29,
      "metadata": {
        "colab": {
          "base_uri": "https://localhost:8080/"
        },
        "id": "17a_oQUiE9oF",
        "outputId": "3dac2543-af5c-4b8f-e980-cf25eeda46b2"
      },
      "outputs": [
        {
          "name": "stdout",
          "output_type": "stream",
          "text": [
            "GridSearch-SVM Accuracy  =  0.8605442176870748\n",
            "GridSearch-SVM Precision =  0.8950617283950617\n",
            "GridSearch-SVM Recall    =  0.8579881656804734\n",
            "GridSearch-SVM F1 Score  =  0.8761329305135952\n",
            "Error :  0.13945578231292516\n"
          ]
        }
      ],
      "source": [
        "print(\"GridSearch-SVM Accuracy  = \", accuracy_score(y_test, grid_svm_predict))\n",
        "print(\"GridSearch-SVM Precision = \", precision_score(y_test, grid_svm_predict))\n",
        "print(\"GridSearch-SVM Recall    = \", recall_score(y_test, grid_svm_predict))\n",
        "print(\"GridSearch-SVM F1 Score  = \", f1_score(y_test, grid_svm_predict))\n",
        "print(\"Error : \", mean_absolute_error(y_test, grid_svm_predict))\n",
        "\n",
        "grid_svm = SVC(kernel='linear', C=cvalue)\n",
        "# , gamma=0.01"
      ]
    },
    {
      "cell_type": "code",
      "execution_count": 30,
      "metadata": {
        "colab": {
          "base_uri": "https://localhost:8080/",
          "height": 337
        },
        "id": "rP8z2UOLwJuv",
        "outputId": "3f586a34-7b67-4b83-ac05-807e92f61a3d"
      },
      "outputs": [
        {
          "data": {
            "image/png": "[encoded data removed]",
            "text/plain": [
              "<Figure size 432x288 with 2 Axes>"
            ]
          },
          "metadata": {
            "needs_background": "light"
          },
          "output_type": "display_data"
        }
      ],
      "source": [
        "from sklearn.metrics import confusion_matrix\n",
        "import seaborn as sn\n",
        "import matplotlib.pyplot as plt\n",
        "\n",
        "matrix = confusion_matrix(y_test, grid_svm_predict)\n",
        "plot = sn.heatmap(matrix, annot=True)\n",
        "\n",
        "plot.set_title('SVM Confusion Matrix \\n\\n');\n",
        "plot.set_xlabel('\\nPredicted Values')\n",
        "plot.set_ylabel('Actual Values ');\n",
        "plot.xaxis.set_ticklabels(['Normal','Cancer'])\n",
        "plot.yaxis.set_ticklabels(['Normal','Cancer'])\n",
        "plt.show()"
      ]
    },
    {
      "cell_type": "markdown",
      "metadata": {
        "id": "GrL_o2pKxWRS"
      },
      "source": [
        "## Seleksi Fitur dengan GA"
      ]
    },
    {
      "cell_type": "code",
      "execution_count": 31,
      "metadata": {
        "colab": {
          "base_uri": "https://localhost:8080/"
        },
        "id": "KajNo8UfnyVg",
        "outputId": "df69ab82-93fe-4686-d0f6-24b8bf5063ec"
      },
      "outputs": [
        {
          "name": "stdout",
          "output_type": "stream",
          "text": [
            "[array([ True,  True,  True,  True,  True, False])]\n",
            "[array([ True,  True,  True,  True,  True, False]), array([ True,  True,  True,  True,  True, False])]\n",
            "[array([ True,  True,  True,  True,  True, False]), array([ True,  True,  True,  True,  True, False]), array([ True,  True, False,  True,  True,  True])]\n",
            "[array([ True,  True,  True,  True,  True, False]), array([ True,  True,  True,  True,  True, False]), array([ True,  True, False,  True,  True,  True]), array([ True,  True,  True, False,  True,  True])]\n",
            "[array([ True,  True,  True,  True,  True, False]), array([ True,  True,  True,  True,  True, False]), array([ True,  True, False,  True,  True,  True]), array([ True,  True,  True, False,  True,  True]), array([ True,  True,  True,  True, False,  True])]\n",
            "[array([ True,  True,  True,  True,  True, False]), array([ True,  True,  True,  True,  True, False]), array([ True,  True, False,  True,  True,  True]), array([ True,  True,  True, False,  True,  True]), array([ True,  True,  True,  True, False,  True]), array([ True,  True,  True,  True,  True, False])]\n",
            "[array([ True,  True,  True,  True,  True, False]), array([ True,  True,  True,  True,  True, False]), array([ True,  True, False,  True,  True,  True]), array([ True,  True,  True, False,  True,  True]), array([ True,  True,  True,  True, False,  True]), array([ True,  True,  True,  True,  True, False]), array([ True,  True, False,  True,  True,  True])]\n",
            "[array([ True,  True,  True,  True,  True, False]), array([ True,  True,  True,  True,  True, False]), array([ True,  True, False,  True,  True,  True]), array([ True,  True,  True, False,  True,  True]), array([ True,  True,  True,  True, False,  True]), array([ True,  True,  True,  True,  True, False]), array([ True,  True, False,  True,  True,  True]), array([ True, False,  True,  True,  True,  True])]\n",
            "[array([ True,  True,  True,  True,  True, False]), array([ True,  True,  True,  True,  True, False]), array([ True,  True, False,  True,  True,  True]), array([ True,  True,  True, False,  True,  True]), array([ True,  True,  True,  True, False,  True]), array([ True,  True,  True,  True,  True, False]), array([ True,  True, False,  True,  True,  True]), array([ True, False,  True,  True,  True,  True]), array([ True,  True,  True,  True,  True, False])]\n",
            "[array([ True,  True,  True,  True,  True, False]), array([ True,  True,  True,  True,  True, False]), array([ True,  True, False,  True,  True,  True]), array([ True,  True,  True, False,  True,  True]), array([ True,  True,  True,  True, False,  True]), array([ True,  True,  True,  True,  True, False]), array([ True,  True, False,  True,  True,  True]), array([ True, False,  True,  True,  True,  True]), array([ True,  True,  True,  True,  True, False]), array([ True,  True,  True,  True,  True, False])]\n",
            "[array([ True,  True,  True,  True,  True, False]), array([ True,  True,  True,  True,  True, False]), array([ True,  True, False,  True,  True,  True]), array([ True,  True,  True, False,  True,  True]), array([ True,  True,  True,  True, False,  True]), array([ True,  True,  True,  True,  True, False]), array([ True,  True, False,  True,  True,  True]), array([ True, False,  True,  True,  True,  True]), array([ True,  True,  True,  True,  True, False]), array([ True,  True,  True,  True,  True, False]), array([ True,  True,  True,  True, False,  True])]\n",
            "[array([ True,  True,  True,  True,  True, False]), array([ True,  True,  True,  True,  True, False]), array([ True,  True, False,  True,  True,  True]), array([ True,  True,  True, False,  True,  True]), array([ True,  True,  True,  True, False,  True]), array([ True,  True,  True,  True,  True, False]), array([ True,  True, False,  True,  True,  True]), array([ True, False,  True,  True,  True,  True]), array([ True,  True,  True,  True,  True, False]), array([ True,  True,  True,  True,  True, False]), array([ True,  True,  True,  True, False,  True]), array([ True,  True,  True, False,  True,  True])]\n",
            "[array([ True,  True,  True,  True,  True, False]), array([ True,  True,  True,  True,  True, False]), array([ True,  True, False,  True,  True,  True]), array([ True,  True,  True, False,  True,  True]), array([ True,  True,  True,  True, False,  True]), array([ True,  True,  True,  True,  True, False]), array([ True,  True, False,  True,  True,  True]), array([ True, False,  True,  True,  True,  True]), array([ True,  True,  True,  True,  True, False]), array([ True,  True,  True,  True,  True, False]), array([ True,  True,  True,  True, False,  True]), array([ True,  True,  True, False,  True,  True]), array([ True,  True, False,  True,  True,  True])]\n",
            "[array([ True,  True,  True,  True,  True, False]), array([ True,  True,  True,  True,  True, False]), array([ True,  True, False,  True,  True,  True]), array([ True,  True,  True, False,  True,  True]), array([ True,  True,  True,  True, False,  True]), array([ True,  True,  True,  True,  True, False]), array([ True,  True, False,  True,  True,  True]), array([ True, False,  True,  True,  True,  True]), array([ True,  True,  True,  True,  True, False]), array([ True,  True,  True,  True,  True, False]), array([ True,  True,  True,  True, False,  True]), array([ True,  True,  True, False,  True,  True]), array([ True,  True, False,  True,  True,  True]), array([ True,  True,  True,  True, False,  True])]\n",
            "[array([ True,  True,  True,  True,  True, False]), array([ True,  True,  True,  True,  True, False]), array([ True,  True, False,  True,  True,  True]), array([ True,  True,  True, False,  True,  True]), array([ True,  True,  True,  True, False,  True]), array([ True,  True,  True,  True,  True, False]), array([ True,  True, False,  True,  True,  True]), array([ True, False,  True,  True,  True,  True]), array([ True,  True,  True,  True,  True, False]), array([ True,  True,  True,  True,  True, False]), array([ True,  True,  True,  True, False,  True]), array([ True,  True,  True, False,  True,  True]), array([ True,  True, False,  True,  True,  True]), array([ True,  True,  True,  True, False,  True]), array([False,  True,  True,  True,  True,  True])]\n",
            "[array([ True,  True,  True,  True,  True, False]), array([ True,  True,  True,  True,  True, False]), array([ True,  True, False,  True,  True,  True]), array([ True,  True,  True, False,  True,  True]), array([ True,  True,  True,  True, False,  True]), array([ True,  True,  True,  True,  True, False]), array([ True,  True, False,  True,  True,  True]), array([ True, False,  True,  True,  True,  True]), array([ True,  True,  True,  True,  True, False]), array([ True,  True,  True,  True,  True, False]), array([ True,  True,  True,  True, False,  True]), array([ True,  True,  True, False,  True,  True]), array([ True,  True, False,  True,  True,  True]), array([ True,  True,  True,  True, False,  True]), array([False,  True,  True,  True,  True,  True]), array([ True,  True,  True, False,  True,  True])]\n",
            "[array([ True,  True,  True,  True,  True, False]), array([ True,  True,  True,  True,  True, False]), array([ True,  True, False,  True,  True,  True]), array([ True,  True,  True, False,  True,  True]), array([ True,  True,  True,  True, False,  True]), array([ True,  True,  True,  True,  True, False]), array([ True,  True, False,  True,  True,  True]), array([ True, False,  True,  True,  True,  True]), array([ True,  True,  True,  True,  True, False]), array([ True,  True,  True,  True,  True, False]), array([ True,  True,  True,  True, False,  True]), array([ True,  True,  True, False,  True,  True]), array([ True,  True, False,  True,  True,  True]), array([ True,  True,  True,  True, False,  True]), array([False,  True,  True,  True,  True,  True]), array([ True,  True,  True, False,  True,  True]), array([ True,  True, False,  True,  True,  True])]\n",
            "[array([ True,  True,  True,  True,  True, False]), array([ True,  True,  True,  True,  True, False]), array([ True,  True, False,  True,  True,  True]), array([ True,  True,  True, False,  True,  True]), array([ True,  True,  True,  True, False,  True]), array([ True,  True,  True,  True,  True, False]), array([ True,  True, False,  True,  True,  True]), array([ True, False,  True,  True,  True,  True]), array([ True,  True,  True,  True,  True, False]), array([ True,  True,  True,  True,  True, False]), array([ True,  True,  True,  True, False,  True]), array([ True,  True,  True, False,  True,  True]), array([ True,  True, False,  True,  True,  True]), array([ True,  True,  True,  True, False,  True]), array([False,  True,  True,  True,  True,  True]), array([ True,  True,  True, False,  True,  True]), array([ True,  True, False,  True,  True,  True]), array([False,  True,  True,  True,  True,  True])]\n",
            "[array([ True,  True,  True,  True,  True, False]), array([ True,  True,  True,  True,  True, False]), array([ True,  True, False,  True,  True,  True]), array([ True,  True,  True, False,  True,  True]), array([ True,  True,  True,  True, False,  True]), array([ True,  True,  True,  True,  True, False]), array([ True,  True, False,  True,  True,  True]), array([ True, False,  True,  True,  True,  True]), array([ True,  True,  True,  True,  True, False]), array([ True,  True,  True,  True,  True, False]), array([ True,  True,  True,  True, False,  True]), array([ True,  True,  True, False,  True,  True]), array([ True,  True, False,  True,  True,  True]), array([ True,  True,  True,  True, False,  True]), array([False,  True,  True,  True,  True,  True]), array([ True,  True,  True, False,  True,  True]), array([ True,  True, False,  True,  True,  True]), array([False,  True,  True,  True,  True,  True]), array([False,  True,  True,  True,  True,  True])]\n",
            "[array([ True,  True,  True,  True,  True, False]), array([ True,  True,  True,  True,  True, False]), array([ True,  True, False,  True,  True,  True]), array([ True,  True,  True, False,  True,  True]), array([ True,  True,  True,  True, False,  True]), array([ True,  True,  True,  True,  True, False]), array([ True,  True, False,  True,  True,  True]), array([ True, False,  True,  True,  True,  True]), array([ True,  True,  True,  True,  True, False]), array([ True,  True,  True,  True,  True, False]), array([ True,  True,  True,  True, False,  True]), array([ True,  True,  True, False,  True,  True]), array([ True,  True, False,  True,  True,  True]), array([ True,  True,  True,  True, False,  True]), array([False,  True,  True,  True,  True,  True]), array([ True,  True,  True, False,  True,  True]), array([ True,  True, False,  True,  True,  True]), array([False,  True,  True,  True,  True,  True]), array([False,  True,  True,  True,  True,  True]), array([ True,  True,  True,  True,  True, False])]\n"
          ]
        }
      ],
      "source": [
        "import numpy as np\n",
        "# Inisiasi\n",
        "size = 20\n",
        "n_feat = 6\n",
        "n_parents = 10\n",
        "mutation_rate = 0.1\n",
        "n_gen = 10\n",
        "\n",
        "def initilization_of_population(size,n_feat):\n",
        "    population = []\n",
        "    for i in range(size):\n",
        "        chromosome = np.ones(n_feat, bool)\n",
        "        chromosome[:int(0.3*n_feat)]=False\n",
        "        np.random.shuffle(chromosome)\n",
        "        population.append(chromosome)\n",
        "        print(population)\n",
        "    return population\n",
        "\n",
        "def fitness_score(population):\n",
        "    scores = []\n",
        "    for chromosome in population: \n",
        "        grid_svm.fit(x_train.iloc[:,chromosome],y_train)\n",
        "        predictions = grid_svm.predict(x_test.iloc[:,chromosome])\n",
        "        scores.append(accuracy_score(y_test,predictions))\n",
        "    scores, population = np.array(scores), np.array(population) \n",
        "    inds = np.argsort(scores)\n",
        "    return list(scores[inds][::-1]), list(population[inds,:][::-1])\n",
        "\n",
        "def selection(pop_after_fit,n_parents):\n",
        "    population_nextgen = []\n",
        "    for i in range(n_parents):\n",
        "        population_nextgen.append(pop_after_fit[i])\n",
        "    return population_nextgen\n",
        "\n",
        "def crossover(pop_after_sel):\n",
        "    population_nextgen=pop_after_sel\n",
        "    for i in range(len(pop_after_sel)):\n",
        "        child=pop_after_sel[i]\n",
        "        child[3:7]=pop_after_sel[(i+1)%len(pop_after_sel)][3:7]\n",
        "        population_nextgen.append(child)\n",
        "    return population_nextgen\n",
        "\n",
        "def mutation(pop_after_cross,mutation_rate):\n",
        "    population_nextgen = []\n",
        "    for i in range(0,len(pop_after_cross)):\n",
        "        chromosome = pop_after_cross[i]\n",
        "        for j in range(len(chromosome)):\n",
        "            if np.random.random() < mutation_rate:\n",
        "                chromosome[j]= not chromosome[j]\n",
        "        population_nextgen.append(chromosome)\n",
        "    #print(population_nextgen)\n",
        "    return population_nextgen\n",
        "\n",
        "def generations(size,n_feat,n_parents,mutation_rate,n_gen,\n",
        "                X_train,X_test, y_train, y_test):\n",
        "    best_chromo= []\n",
        "    best_score= []\n",
        "    population_nextgen=initilization_of_population(size,n_feat)\n",
        "    for i in range(n_gen):\n",
        "        scores, pop_after_fit = fitness_score(population_nextgen)\n",
        "        pop_after_sel = selection(pop_after_fit,n_parents)\n",
        "        pop_after_cross = crossover(pop_after_sel)\n",
        "        population_nextgen = mutation(pop_after_cross,mutation_rate)\n",
        "        # print(\"generasi ke : \"+ str(i+1) +\", accuracy : \"+ str(scores[0]))\n",
        "        best_chromo.append(pop_after_fit[0])\n",
        "        best_score.append(scores[0])\n",
        "    return best_chromo, best_score\n",
        "\n",
        "chromo,score=generations(size, n_feat, n_parents, mutation_rate, n_gen,\n",
        "                         x_train, x_test, y_train, y_test)"
      ]
    },
    {
      "cell_type": "code",
      "execution_count": 32,
      "metadata": {
        "colab": {
          "base_uri": "https://localhost:8080/"
        },
        "id": "3c-gvDsin3W5",
        "outputId": "260df274-4ea0-49c5-d922-4bb2507334da"
      },
      "outputs": [
        {
          "name": "stdout",
          "output_type": "stream",
          "text": [
            "chromo :  [ True  True  True  True  True  True]\n",
            "accuracy :  0.8605442176870748\n",
            "chromo :  [ True  True  True  True  True False]\n",
            "accuracy :  0.8571428571428571\n",
            "chromo :  [False  True False  True False False]\n",
            "accuracy :  0.8299319727891157\n",
            "chromo :  [ True  True  True False  True False]\n",
            "accuracy :  0.9115646258503401\n",
            "chromo :  [False  True  True  True  True False]\n",
            "accuracy :  0.9829931972789115\n",
            "chromo :  [False  True  True  True  True  True]\n",
            "accuracy :  0.9829931972789115\n",
            "chromo :  [False  True  True  True  True False]\n",
            "accuracy :  0.9829931972789115\n",
            "chromo :  [False  True  True  True  True  True]\n",
            "accuracy :  0.9829931972789115\n",
            "chromo :  [False  True  True  True  True  True]\n",
            "accuracy :  0.9829931972789115\n",
            "chromo :  [False  True  True False  True  True]\n",
            "accuracy :  0.9761904761904762\n"
          ]
        }
      ],
      "source": [
        "for i in chromo:\n",
        "    grid_svm.fit(x_train.iloc[:,i],y_train)\n",
        "    predictions = grid_svm.predict(x_test.iloc[:,i])\n",
        "    accuracy = accuracy_score(y_test, predictions)\n",
        "    \n",
        "    print(\"chromo : \", i)\n",
        "    print(\"accuracy : \", accuracy)"
      ]
    },
    {
      "cell_type": "code",
      "execution_count": 33,
      "metadata": {
        "id": "OAq0AscRn5jC"
      },
      "outputs": [],
      "source": [
        "pchromo = []\n",
        "pscore = 0\n",
        "\n",
        "for i in chromo:\n",
        "    grid_svm.fit(x_train.iloc[:,i],y_train)\n",
        "    predictions = grid_svm.predict(x_test.iloc[:,i])\n",
        "    accuracy = accuracy_score(y_test, predictions)\n",
        "    if accuracy > pscore:\n",
        "        pchromo = i\n",
        "        pscore = accuracy"
      ]
    },
    {
      "cell_type": "code",
      "execution_count": 34,
      "metadata": {
        "colab": {
          "base_uri": "https://localhost:8080/"
        },
        "id": "Px8zQOyRn7-r",
        "outputId": "0d865368-03cb-4446-dfbc-829bb3bae915"
      },
      "outputs": [
        {
          "name": "stdout",
          "output_type": "stream",
          "text": [
            "[False  True  True  True  True False]\n",
            "0.9829931972789115\n"
          ]
        }
      ],
      "source": [
        "print(pchromo)\n",
        "print(pscore)"
      ]
    },
    {
      "cell_type": "code",
      "execution_count": 35,
      "metadata": {
        "id": "3Qja3igQnaB1"
      },
      "outputs": [],
      "source": [
        "dffeature = pd.DataFrame(pchromo, columns=['feature'])\n",
        "dffeature.to_csv(\"/content/drive/My Drive/TA/best_features.csv\")"
      ]
    },
    {
      "cell_type": "markdown",
      "metadata": {
        "id": "7izAOAwV1bJE"
      },
      "source": [
        "## Hasil GridSearch-GA-SVM"
      ]
    },
    {
      "cell_type": "code",
      "execution_count": 36,
      "metadata": {
        "colab": {
          "base_uri": "https://localhost:8080/"
        },
        "id": "w5zi31isQC09",
        "outputId": "cc203361-3119-4405-e0d0-181cc599062a"
      },
      "outputs": [
        {
          "name": "stdout",
          "output_type": "stream",
          "text": [
            "GridSearch-GA-SVM Accuracy  =  0.9829931972789115\n",
            "GridSearch-GA-SVM Precision =  1.0\n",
            "GridSearch-GA-SVM Recall    =  0.9704142011834319\n",
            "GridSearch-GA-SVM F1 Score  =  0.9849849849849849\n",
            "Error :  0.017006802721088437\n",
            "              precision    recall  f1-score   support\n",
            "\n",
            "           0       0.96      1.00      0.98       125\n",
            "           1       1.00      0.97      0.98       169\n",
            "\n",
            "    accuracy                           0.98       294\n",
            "   macro avg       0.98      0.99      0.98       294\n",
            "weighted avg       0.98      0.98      0.98       294\n",
            "\n"
          ]
        }
      ],
      "source": [
        "ga_model = SVC(kernel='linear', C=cvalue)\n",
        "ga_model.fit(x_train.iloc[:,pchromo], y_train)\n",
        "ga_predictions = ga_model.predict(x_test.iloc[:,pchromo])\n",
        "\n",
        "print(\"GridSearch-GA-SVM Accuracy  = \", accuracy_score(y_test, ga_predictions))\n",
        "print(\"GridSearch-GA-SVM Precision = \", precision_score(y_test, ga_predictions))\n",
        "print(\"GridSearch-GA-SVM Recall    = \", recall_score(y_test, ga_predictions))\n",
        "print(\"GridSearch-GA-SVM F1 Score  = \", f1_score(y_test, ga_predictions))\n",
        "print(\"Error : \", mean_absolute_error(y_test, ga_predictions))\n",
        "\n",
        "print(classification_report(y_test, ga_predictions))"
      ]
    },
    {
      "cell_type": "code",
      "execution_count": 37,
      "metadata": {
        "colab": {
          "base_uri": "https://localhost:8080/",
          "height": 337
        },
        "id": "ZuBdNd_LFq10",
        "outputId": "6ae2e41b-8cc9-4be2-b3f3-a56d55d03f50"
      },
      "outputs": [
        {
          "data": {
            "image/png": "[encoded data removed]",
            "text/plain": [
              "<Figure size 432x288 with 2 Axes>"
            ]
          },
          "metadata": {
            "needs_background": "light"
          },
          "output_type": "display_data"
        }
      ],
      "source": [
        "matrix = confusion_matrix(y_test, ga_predictions)\n",
        "plot = sn.heatmap(matrix, annot=True)\n",
        "\n",
        "plot.set_title('GA-SVM Confusion Matrix \\n\\n');\n",
        "plot.set_xlabel('\\nPredicted Values')\n",
        "plot.set_ylabel('Actual Values ');\n",
        "plot.xaxis.set_ticklabels(['Normal','Cancer'])\n",
        "plot.yaxis.set_ticklabels(['Normal','Cancer'])\n",
        "plt.show()"
      ]
    },
    {
      "cell_type": "markdown",
      "metadata": {
        "id": "1HtUr27s2Amp"
      },
      "source": [
        "## KFold Cross Validation"
      ]
    },
    {
      "cell_type": "code",
      "execution_count": 38,
      "metadata": {
        "id": "WUJjExoqFssx"
      },
      "outputs": [],
      "source": [
        "from sklearn.model_selection import KFold, cross_validate\n",
        "\n",
        "cv = KFold(n_splits=30, random_state=45, shuffle=True)\n",
        "ga_scores = cross_validate(ga_model, x_test, ga_predictions, scoring=['accuracy', 'precision', 'recall', 'f1'],cv=cv)\n",
        "svc_scores = cross_validate(svc_model, x_test, grid_svm_predict, scoring=['accuracy', 'precision', 'recall', 'f1'],cv=cv)"
      ]
    },
    {
      "cell_type": "code",
      "execution_count": 39,
      "metadata": {
        "colab": {
          "base_uri": "https://localhost:8080/",
          "height": 295
        },
        "id": "5-02hoUTFvx4",
        "outputId": "477419aa-86f7-40df-c13b-c4551e4fdf1a"
      },
      "outputs": [
        {
          "data": {
            "image/png": "[encoded data removed]",
            "text/plain": [
              "<Figure size 432x288 with 1 Axes>"
            ]
          },
          "metadata": {
            "needs_background": "light"
          },
          "output_type": "display_data"
        }
      ],
      "source": [
        "x = [i for i in range(30)]\n",
        "y1 = list(map(float, ga_scores['test_accuracy']))\n",
        "y2 = list(map(float, svc_scores['test_accuracy']))\n",
        "\n",
        "plt.plot(x, y1, label = \"GA-SVM\")\n",
        "plt.plot(x, y2, label = \"SVM\")\n",
        "plt.xlabel(\"Iterasi\")\n",
        "plt.ylabel(\"Akuraci\")\n",
        "plt.title(\"Cross Validation('Akurasi')\")\n",
        "plt.legend()\n",
        "plt.show()"
      ]
    },
    {
      "cell_type": "code",
      "execution_count": 40,
      "metadata": {
        "colab": {
          "base_uri": "https://localhost:8080/",
          "height": 295
        },
        "id": "m0MLFbZ9FyVq",
        "outputId": "4706e07d-46c7-4e8c-85ec-a1c02ea88342"
      },
      "outputs": [
        {
          "data": {
            "image/png": "[encoded data removed]",
            "text/plain": [
              "<Figure size 432x288 with 1 Axes>"
            ]
          },
          "metadata": {
            "needs_background": "light"
          },
          "output_type": "display_data"
        }
      ],
      "source": [
        "y1 = list(map(float, ga_scores['test_precision']))\n",
        "y2 = list(map(float, svc_scores['test_precision']))\n",
        "\n",
        "plt.plot(x, y1, label = \"GA-SVM\")\n",
        "plt.plot(x, y2, label = \"SVM\")\n",
        "plt.xlabel(\"Iterasi\")\n",
        "plt.ylabel(\"Presisi\")\n",
        "plt.title(\"Cross Validation('Presisi')\")\n",
        "plt.legend()\n",
        "plt.show()"
      ]
    },
    {
      "cell_type": "code",
      "execution_count": 41,
      "metadata": {
        "colab": {
          "base_uri": "https://localhost:8080/",
          "height": 295
        },
        "id": "2dCZlaQ9GlZH",
        "outputId": "1850f824-e836-4a37-d5ba-b9b7b3780df0"
      },
      "outputs": [
        {
          "data": {
            "image/png": "[encoded data removed]",
            "text/plain": [
              "<Figure size 432x288 with 1 Axes>"
            ]
          },
          "metadata": {
            "needs_background": "light"
          },
          "output_type": "display_data"
        }
      ],
      "source": [
        "y1 = list(map(float, ga_scores['test_recall']))\n",
        "y2 = list(map(float, svc_scores['test_recall']))\n",
        "\n",
        "plt.plot(x, y1, label = \"GA-SVM\")\n",
        "plt.plot(x, y2, label = \"SVM\")\n",
        "plt.xlabel(\"Iterasi\")\n",
        "plt.ylabel(\"Recall\")\n",
        "plt.title(\"Cross Validation('Recall')\")\n",
        "plt.legend()\n",
        "plt.show()"
      ]
    },
    {
      "cell_type": "code",
      "execution_count": 42,
      "metadata": {
        "colab": {
          "base_uri": "https://localhost:8080/",
          "height": 295
        },
        "id": "9bbexfw0GpRw",
        "outputId": "ed7405ce-e656-4c08-9d8a-fc47d1292306"
      },
      "outputs": [
        {
          "data": {
            "image/png": "[encoded data removed]",
            "text/plain": [
              "<Figure size 432x288 with 1 Axes>"
            ]
          },
          "metadata": {
            "needs_background": "light"
          },
          "output_type": "display_data"
        }
      ],
      "source": [
        "y1 = list(map(float, ga_scores['test_f1']))\n",
        "y2 = list(map(float, svc_scores['test_f1']))\n",
        "\n",
        "plt.plot(x, y1, label = \"GA-SVM\")\n",
        "plt.plot(x, y2, label = \"SVM\")\n",
        "plt.xlabel(\"Iterasi\")\n",
        "plt.ylabel(\"F1 Score\")\n",
        "plt.title(\"Cross Validation('F1 Score')\")\n",
        "plt.legend()\n",
        "plt.show()"
      ]
    },
    {
      "cell_type": "code",
      "execution_count": 43,
      "metadata": {
        "colab": {
          "base_uri": "https://localhost:8080/"
        },
        "id": "QMv-IwCGGu0E",
        "outputId": "8c33dda5-0b79-44c6-e4b1-95dc6eba55e5"
      },
      "outputs": [
        {
          "name": "stdout",
          "output_type": "stream",
          "text": [
            "0.923076923076923\n",
            "0.7692307692307693\n",
            "1.0\n",
            "0.6666666666666666\n",
            "1.0\n",
            "0.5714285714285715\n",
            "1.0\n",
            "1.0\n",
            "1.0\n",
            "1.0\n"
          ]
        }
      ],
      "source": [
        "for i in range(10):\n",
        "    print(y1[i])"
      ]
    },
    {
      "cell_type": "code",
      "execution_count": 44,
      "metadata": {
        "colab": {
          "base_uri": "https://localhost:8080/"
        },
        "id": "48GM7STWv2ag",
        "outputId": "d29312f5-60ea-4da1-f5a2-543a48b36b57"
      },
      "outputs": [
        {
          "name": "stdout",
          "output_type": "stream",
          "text": [
            "1.0\n",
            "1.0\n",
            "1.0\n",
            "0.9090909090909091\n",
            "1.0\n",
            "0.8571428571428571\n",
            "0.9090909090909091\n",
            "1.0\n",
            "0.8571428571428571\n",
            "0.9090909090909091\n"
          ]
        }
      ],
      "source": [
        "for i in range(10):\n",
        "    print(y2[i])"
      ]
    }
  ],
  "metadata": {
    "colab": {
      "provenance": []
    },
    "kernelspec": {
      "display_name": "Python 3.10.2 64-bit",
      "language": "python",
      "name": "python3"
    },
    "language_info": {
      "codemirror_mode": {
        "name": "ipython",
        "version": 3
      },
      "file_extension": ".py",
      "mimetype": "text/x-python",
      "name": "python",
      "nbconvert_exporter": "python",
      "pygments_lexer": "ipython3",
      "version": "3.10.2"
    },
    "vscode": {
      "interpreter": {
        "hash": "aee8b7b246df8f9039afb4144a1f6fd8d2ca17a180786b69acc140d282b71a49"
      }
    }
  },
  "nbformat": 4,
  "nbformat_minor": 0
}
